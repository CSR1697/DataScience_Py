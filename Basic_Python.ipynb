{
 "cells": [
  {
   "cell_type": "markdown",
   "id": "e928f5ad",
   "metadata": {},
   "source": [
    "# Python code using List \n",
    "List - \n",
    "Lists are used to store multiple items in a single variable. Lists are one of 4 built-in data types in Python used to store collections of data, the other 3 are Tuple, Set, and Dictionary, all with different qualities and usage."
   ]
  },
  {
   "cell_type": "code",
   "execution_count": 15,
   "id": "178c5cf6",
   "metadata": {},
   "outputs": [
    {
     "name": "stdout",
     "output_type": "stream",
     "text": [
      "Enter the list: [10,20,30,40]\n",
      "<class 'list'>\n",
      "Length of the list is:  4\n",
      "The multiplication of all elements in  the list is:  240000\n"
     ]
    }
   ],
   "source": [
    "#Write a Python program to find the multiplication of all elements in a list using loop.\n",
    "#Input:- [10,20,30,40]\n",
    "#Output:- 240000\n",
    "\n",
    "my_lst = eval(input(\"Enter the list: \"))\n",
    "out_mul = 1\n",
    "print(type(my_lst))\n",
    "print(\"Length of the list is: \", len(my_lst))\n",
    "for i in my_lst:\n",
    "    out_mul *= i\n",
    "print(\"The multiplication of all elements in  the list is: \",out_mul)"
   ]
  },
  {
   "cell_type": "code",
   "execution_count": 16,
   "id": "724984da",
   "metadata": {},
   "outputs": [
    {
     "name": "stdout",
     "output_type": "stream",
     "text": [
      "Enter the list: [10,100,2321, 1,200,2]\n",
      "<class 'list'>\n",
      "Length of the list is:  6\n",
      "The largest of all elements in  the list is:  2321\n"
     ]
    }
   ],
   "source": [
    "#Write a Python program to find the largest number from a list using loop.\n",
    "#Input:- [10,100,2321, 1,200,2]\n",
    "#Output:- 2321\n",
    "\n",
    "my_lst = eval(input(\"Enter the list: \"))\n",
    "num = 0\n",
    "print(type(my_lst))\n",
    "print(\"Length of the list is: \", len(my_lst))\n",
    "for i in my_lst:\n",
    "    if i > num:\n",
    "        num = 0\n",
    "        num += i\n",
    "print(\"The largest of all elements in  the list is: \",num)"
   ]
  },
  {
   "cell_type": "code",
   "execution_count": 17,
   "id": "1778f073",
   "metadata": {},
   "outputs": [
    {
     "name": "stdout",
     "output_type": "stream",
     "text": [
      "Enter the list: [10,100,2321, 1,200,2]\n",
      "<class 'list'>\n",
      "The length of the list is:  6\n",
      "The smallest of all elements in the list is:  1\n"
     ]
    }
   ],
   "source": [
    "#Write a Python program to find the smallest number from a list using loop.\n",
    "#Input:- [10,100,2321, 1,200,2]\n",
    "#Output:- 1\n",
    "\n",
    "my_lst = eval(input(\"Enter the list: \"))\n",
    "snum = my_lst[0]\n",
    "print(type(my_lst))\n",
    "print(\"The length of the list is: \", len(my_lst))\n",
    "for i in my_lst:\n",
    "    if i < snum:\n",
    "        snum = 0\n",
    "        snum += i\n",
    "print(\"The smallest of all elements in the list is: \",snum)"
   ]
  },
  {
   "cell_type": "code",
   "execution_count": 18,
   "id": "5cb8a3b3",
   "metadata": {},
   "outputs": [
    {
     "name": "stdout",
     "output_type": "stream",
     "text": [
      "Enter the list: ['ab', 'abc', 'aba', 'xyz', '1991']\n",
      "2\n"
     ]
    }
   ],
   "source": [
    "#Write a Python program to count the number of strings having length more than 2 and are palindrome in a list using loop.\n",
    "#Input:- ['ab', 'abc', 'aba', 'xyz', '1991']\n",
    "#Output:- 2\n",
    "\n",
    "my_lst = eval(input(\"Enter the list: \"))\n",
    "out_lst = []\n",
    "for i in my_lst:\n",
    "    a = i[::-1]\n",
    "    if a == i:\n",
    "        out_lst.append(a)\n",
    "print(len(out_lst))\n"
   ]
  },
  {
   "cell_type": "code",
   "execution_count": 19,
   "id": "f6b95552",
   "metadata": {},
   "outputs": [
    {
     "name": "stdout",
     "output_type": "stream",
     "text": [
      "Enter the list: [100,10,1,298,65,483,49876,2,80,9,9213]\n",
      "[1, 2, 9, 10, 65, 80, 100, 298, 483, 9213, 49876]\n"
     ]
    }
   ],
   "source": [
    "#Write a Python program to sort a list in ascending order using loop.\n",
    "#Input:- [100,10,1,298,65,483,49876,2,80,9,9213]\n",
    "#Output:- [1,2,9,10,65,80,100,298,483,9213,49876]\n",
    "\n",
    "my_lst = eval(input(\"Enter the list: \"))\n",
    "for i in my_lst:\n",
    "    my_lst.sort(reverse = False)\n",
    "print(my_lst)\n"
   ]
  },
  {
   "cell_type": "code",
   "execution_count": 20,
   "id": "dd8353db",
   "metadata": {},
   "outputs": [
    {
     "name": "stdout",
     "output_type": "stream",
     "text": [
      "[(9, 1), (2, 3), (5, 4), (5, 5), (7, 6), (5, 9)]\n"
     ]
    }
   ],
   "source": [
    "#Write a Python program to get a sorted list in increasing order of last element in each tuple in a given list using loop.\n",
    "#Input:- [(5,4),(9,1),(2,3),(5,9),(7,6),(5,5)]\n",
    "#output:- [(9,1),(2,3),(5,4),(5,5),(7,6),(5,9)]\n",
    "\n",
    "my_lst = [(5,4),(9,1),(2,3),(5,9),(7,6),(5,5)]\n",
    "for i in my_lst:\n",
    "    for j in range(len(my_lst)-1):\n",
    "        if my_lst[j][1] > my_lst[j+1][1]:\n",
    "            temp = my_lst[j]\n",
    "            my_lst[j] = my_lst[j+1]\n",
    "            my_lst[j+1] = temp\n",
    "print(my_lst)"
   ]
  },
  {
   "cell_type": "code",
   "execution_count": 21,
   "id": "3a42f576",
   "metadata": {},
   "outputs": [
    {
     "name": "stdout",
     "output_type": "stream",
     "text": [
      "[10, 1, 11, 29, 876, 768, 92]\n"
     ]
    }
   ],
   "source": [
    "#Write a Python program to remove duplicate element from a list using loop.\n",
    "#Input:- [10,1,11,1,29,876,768,10,11,1,92,29,876]\n",
    "#Output:- [10,1,11,29,876,768,92]\n",
    "\n",
    "my_lst = [10,1,11,1,29,876,768,10,11,1,92,29,876]\n",
    "out_lst = []\n",
    "for i in my_lst:\n",
    "    if i not in out_lst:\n",
    "        out_lst.append(i)\n",
    "print(out_lst)\n",
    "        "
   ]
  },
  {
   "cell_type": "code",
   "execution_count": 22,
   "id": "66ab9cc8",
   "metadata": {},
   "outputs": [
    {
     "name": "stdout",
     "output_type": "stream",
     "text": [
      "Enter the list: []\n",
      "List is empty\n",
      "Enter the list: [10,20,30]\n",
      "List is not empty\n"
     ]
    }
   ],
   "source": [
    "#Write a Python program to check a list is empty or not?\n",
    "#Input:- []\n",
    "#Output:- List is empty\n",
    "#Input:- [10,20,30]\n",
    "#Output:- List is not empty\n",
    "\n",
    "for i in range(2):\n",
    "    my_lst = eval(input(\"Enter the list: \"))\n",
    "    if len(my_lst) >= 1:\n",
    "        print(\"List is not empty\")\n",
    "    else:\n",
    "        print(\"List is empty\")"
   ]
  },
  {
   "cell_type": "code",
   "execution_count": 23,
   "id": "c038fcc3",
   "metadata": {},
   "outputs": [
    {
     "name": "stdout",
     "output_type": "stream",
     "text": [
      "['much', 'wood', 'would', 'woodchuck', 'chuck', 'could']\n"
     ]
    }
   ],
   "source": [
    "#Write a Python program to find the list of words that are longer than or equal to 4 from a given string.\n",
    "#Input:- 'How much wood would a woodchuck chuck if a woodchuck could chuck wood'\n",
    "#Output:- ['much', 'wood', 'would', 'woodchuck', 'chuck', 'could']\n",
    "#Note:- Duplicate should be avoided.\n",
    "\n",
    "my_str = 'How much wood would a woodchuck chuck if a woodchuck could chuck wood'\n",
    "new_lst = my_str.split()\n",
    "out_lst = []\n",
    "[out_lst.append(i) for i in new_lst if i not in out_lst and len(i)>3]\n",
    "print(out_lst)"
   ]
  },
  {
   "cell_type": "code",
   "execution_count": 24,
   "id": "9ea320a7",
   "metadata": {},
   "outputs": [
    {
     "name": "stdout",
     "output_type": "stream",
     "text": [
      "True\n"
     ]
    }
   ],
   "source": [
    "#Write a Python program which takes two list as input and returns True if they have at least 3 common elements.\n",
    "#inp_lst1 = [10,20,'Python', 10.20, 10+20j, [10,20,30], (10,20,30)]\n",
    "#inp_lst2 = [(10,20,30),1,20+3j,100.2, 10+20j, [10,20,30],'Python']\n",
    "#Output:- True\n",
    "\n",
    "lst1 = [10,20,'Python', 10.20, 10+20j, [10,20,30], (10,20,30)]\n",
    "lst2 = [(10,20,30),1,20+3j,100.2, 10+20j, [10,20,30],'Python']\n",
    "count = 0 \n",
    "for i in lst1:\n",
    "    for j in lst2:\n",
    "        if i == j:\n",
    "            count += 1\n",
    "if count >= 3:\n",
    "    print(True)"
   ]
  },
  {
   "cell_type": "code",
   "execution_count": 25,
   "id": "fc2dda60",
   "metadata": {},
   "outputs": [
    {
     "name": "stdout",
     "output_type": "stream",
     "text": [
      "[[0, 0, 0, 0], [0, 1, 2, 3], [0, 2, 4, 6], [0, 3, 6, 9]]\n"
     ]
    }
   ],
   "source": [
    "#Write a Python program to create a 4X4 2D matrix with below elements using loop and list comprehension both.\n",
    "#Output:- [[0,0,0,0],[0,1,2,3],[0,2,4,6],[0,3,6,9]]\n",
    "\n",
    "new_lst = []\n",
    "out_lst = []\n",
    "for row in range(4):\n",
    "    for column in range(4):\n",
    "        new_lst.append(row*column)\n",
    "    out_lst.append(new_lst)\n",
    "    new_lst = []\n",
    "print(out_lst)"
   ]
  },
  {
   "cell_type": "code",
   "execution_count": 26,
   "id": "fd3c4c3d",
   "metadata": {},
   "outputs": [
    {
     "name": "stdout",
     "output_type": "stream",
     "text": [
      "[[[0, 0, 0, 0, 0, 0], [0, 0, 0, 0, 0, 0], [0, 0, 0, 0, 0, 0], [0, 0, 0, 0, 0, 0]], [[0, 0, 0, 0, 0, 0], [1, 1, 1, 1, 1, 1], [2, 2, 2, 2, 2, 2], [3, 3, 3, 3, 3, 3]], [[0, 0, 0, 0, 0, 0], [2, 2, 2, 2, 2, 2], [4, 4, 4, 4, 4, 4], [6, 6, 6, 6, 6, 6]]]\n"
     ]
    }
   ],
   "source": [
    "#Write a Python program to create a 3X4X6 3D matrix wiith below elements using loop\n",
    "#Output:- \n",
    "# [\n",
    "#     [[0,0,0,0,0,0],[0,0,0,0,0,0],[0,0,0,0,0,0],[0,0,0,0,0,0]],\n",
    "#     [[0,0,0,0,0,0],[1,1,1,1,1,1],[2,2,2,2,2,2],[3,3,3,3,3,3]],\n",
    "#     [[0,0,0,0,0,0],[2,2,2,2,2,2],[4,4,4,4,4,4],[6,6,6,6,6,6]]\n",
    "# ]\n",
    "\n",
    "row_lst = []\n",
    "col_lst = []\n",
    "ele_lst = []\n",
    "for row in range(3):\n",
    "    for column in range(4):\n",
    "        for elements in range(6):\n",
    "            ele_lst.append(column*row)\n",
    "        col_lst.append(ele_lst)    \n",
    "        ele_lst = []\n",
    "    row_lst.append(col_lst)    \n",
    "    col_lst = []\n",
    "print(row_lst)"
   ]
  },
  {
   "cell_type": "code",
   "execution_count": 27,
   "id": "da48d2bc",
   "metadata": {},
   "outputs": [
    {
     "name": "stdout",
     "output_type": "stream",
     "text": [
      "[21, 87, 45, 33, 1]\n"
     ]
    }
   ],
   "source": [
    "#Write a Python program which takes a list of numbers as input and prints a new list after removing even numbers from it.\n",
    "#Input:- [10,21,22,98,87,45,33,1,2,100]\n",
    "#Output:- [21,87,45,33,1]\n",
    "\n",
    "my_lst = [10,21,22,98,87,45,33,1,2,100]\n",
    "out_lst = [a for a in my_lst if a%2!=0]\n",
    "print(out_lst)"
   ]
  },
  {
   "cell_type": "code",
   "execution_count": 28,
   "id": "473683c3",
   "metadata": {},
   "outputs": [
    {
     "name": "stdout",
     "output_type": "stream",
     "text": [
      "[2, 21, 1, 10, 33, 45, 87, 100, 22, 98]\n"
     ]
    }
   ],
   "source": [
    "#Write a Python program which takes a list from the user and prints it after reshuffling the elements of the list.\n",
    "#Input:- [10,21,22,98,87,45,33,1,2,100]\n",
    "#Output:- [1,87,21,10,33,2,100,45,98,22] (It may be any randon list but with same elements)\n",
    "\n",
    "import random\n",
    "inp_lst = [10,21,22,98,87,45,33,1,2,100]\n",
    "random.shuffle(inp_lst)\n",
    "print(inp_lst)                          \n"
   ]
  },
  {
   "cell_type": "markdown",
   "id": "27bb8002",
   "metadata": {},
   "source": [
    "---"
   ]
  },
  {
   "cell_type": "markdown",
   "id": "561526d0",
   "metadata": {},
   "source": [
    "# Python Code using Dictionary"
   ]
  },
  {
   "cell_type": "code",
   "execution_count": 29,
   "id": "955f594f",
   "metadata": {},
   "outputs": [
    {
     "data": {
      "text/plain": [
       "{'email': 'tom_latham019@gmail.com', 'Phone': 1987654321, 'City': 'California'}"
      ]
     },
     "execution_count": 29,
     "metadata": {},
     "output_type": "execute_result"
    }
   ],
   "source": [
    "# Initialize a dictionary \"emp_info\" with below details\n",
    "# In - emp_info['Tom']\n",
    "# Out - {'email':'tom_latham019@gmail.com', 'Phone': +1987654321, 'City': 'California'}\n",
    "\n",
    "emp_info = {'Tom':{'email':'tom_latham019@gmail.com', 'Phone': +1987654321, 'City': 'California'},\n",
    "            'Kathy':{'email':'kathy_abram897@gmail.com', 'Phone': +1887654321, 'City': 'New York'}}\n",
    "emp_info['Tom']"
   ]
  },
  {
   "cell_type": "code",
   "execution_count": 30,
   "id": "683df8e9",
   "metadata": {},
   "outputs": [
    {
     "data": {
      "text/plain": [
       "{'emp1': {'e_name': 'John', 'e_id': 'SG101', 'e_sal': '$10,000'},\n",
       " 'emp2': {'e_name': 'Smith', 'e_id': 'SG102', 'e_sal': '$9,000'},\n",
       " 'emp3': {'e_name': 'Peter', 'e_id': 'SG103', 'e_sal': '$9,500'}}"
      ]
     },
     "execution_count": 30,
     "metadata": {},
     "output_type": "execute_result"
    }
   ],
   "source": [
    "# Create a dictionary out of below inputs\n",
    "# lst1 = ['emp1', 'emp2', 'emp3']\n",
    "# emp_key = ['e_name', 'e_id', 'e_sal']\n",
    "# emp1_val = ['John', 'SG101', '$10,000']\n",
    "# emp2_val = ['Smith', 'SG102', '$9,000']\n",
    "# emp3_val = ['Peter', 'SG103', '$9,500']\n",
    "\n",
    "# Expected Output:- {'emp1':{'e_name':'John', 'e_id':'SG101', 'e_sal':$10,000}, \n",
    "#                    'emp2':{'e_name':'Smith', 'e_id':'SG102', 'e_sal':$9,000}, \n",
    "#                    'emp3':{'e_name':'Peter', 'e_id':'SG103', 'e_sal':$9,500}}\n",
    "\n",
    "lst1 = ['emp1', 'emp2', 'emp3']\n",
    "emp_key = ['e_name', 'e_id', 'e_sal']\n",
    "emp1_val = ['John', 'SG101', '$10,000']\n",
    "emp2_val = ['Smith', 'SG102', '$9,000']\n",
    "emp3_val = ['Peter', 'SG103', '$9,500']\n",
    "emp_detail = [emp1_val, emp2_val, emp3_val]\n",
    "dict(zip(lst1, [dict(zip(emp_key, i)) for i in emp_detail]))"
   ]
  },
  {
   "cell_type": "code",
   "execution_count": 31,
   "id": "8ef96d45",
   "metadata": {},
   "outputs": [
    {
     "data": {
      "text/plain": [
       "{'Kelly': {'designation': 'Application Developer', 'salary': 8000},\n",
       " 'Emma': {'designation': 'Application Developer', 'salary': 8000},\n",
       " 'John': {'designation': 'Application Developer', 'salary': 8000}}"
      ]
     },
     "execution_count": 31,
     "metadata": {},
     "output_type": "execute_result"
    }
   ],
   "source": [
    "# Initialize dictionary with default values. Inputs are:-\n",
    "# employees = ['Kelly', 'Emma', 'John']\n",
    "# defaults = {\"designation\": 'Application Developer', \"salary\": 8000}\n",
    "\n",
    "#Expected output:- {'Kelly': {'designation': 'Application Developer', 'salary': 8000}, \n",
    "#                   'Emma': {'designation': 'Application Developer', 'salary': 8000}, \n",
    "#                   'John': {'designation': 'Application Developer', 'salary': 8000}}\n",
    "\n",
    "d={}\n",
    "employees = ['Kelly', 'Emma', 'John']\n",
    "defaults = {\"designation\": 'Application Developer', \"salary\": 8000}\n",
    "dict((d.fromkeys(employees, defaults)))"
   ]
  },
  {
   "cell_type": "code",
   "execution_count": 32,
   "id": "60d59f39",
   "metadata": {},
   "outputs": [
    {
     "data": {
      "text/plain": [
       "{'A': 'U', 'T': 'A', 'C': 'G', 'G': 'C'}"
      ]
     },
     "execution_count": 32,
     "metadata": {},
     "output_type": "execute_result"
    }
   ],
   "source": [
    "# In gene expression, mRNA is transcribed from a DNA template. \n",
    "# The 4 nucleotide bases of A, T, C, G corresponds to the U, A, G, C bases of the mRNA. \n",
    "# Write a function that returns the mRNA transcript given the sequence of a DNA strand.\n",
    "\n",
    "# Use a dictionary to provide the mapping of DNA to RNA bases.\n",
    "\n",
    "nucleotide_bases = ['A', 'T', 'C', 'G']\n",
    "mRNA = ['U', 'A', 'G', 'C']\n",
    "dict(zip(nucleotide_bases, mRNA))"
   ]
  },
  {
   "cell_type": "code",
   "execution_count": 33,
   "id": "1ca021d2",
   "metadata": {},
   "outputs": [
    {
     "data": {
      "text/plain": [
       "{'g': 2, 'o': 3, 'l': 1, 'e': 1, '.': 1, 'c': 1, 'm': 1}"
      ]
     },
     "execution_count": 33,
     "metadata": {},
     "output_type": "execute_result"
    }
   ],
   "source": [
    "# Write a function which takes a word as input and returns a dictionary with letters as key and no of time letters are repeated as value.\n",
    "# In - count_letter('google.com')\n",
    "# Out - {'g': 2, 'o': 3, 'l': 1, 'e': 1, '.': 1, 'c': 1, 'm': 1}\n",
    "\n",
    "# inp = 'google.com'\n",
    "# {i:inp.count(i) for i in inp}\n",
    "\n",
    "def count_letter(inp):\n",
    "    d = {}\n",
    "    d = {i:inp.count(i) for i in inp}\n",
    "    return d\n",
    "count_letter('google.com')"
   ]
  },
  {
   "cell_type": "code",
   "execution_count": 34,
   "id": "7f59a360",
   "metadata": {},
   "outputs": [
    {
     "name": "stdout",
     "output_type": "stream",
     "text": [
      "computing the base composition of the DNA sequence.....: {'A': 4, 'T': 5, 'C': 8, 'G': 3}\n",
      "\n",
      "computing the base composition of the DNA sequence.....: {'A': 1, 'T': 1, 'C': 0, 'G': 1}\n"
     ]
    }
   ],
   "source": [
    "# A DNA strand consisting of the 4 nucleotide bases is usually represented with a string of letters: A,T, C, G. \n",
    "# Write a function that computes the base composition of a given DNA sequence.\n",
    "\n",
    "# In - baseComposition(\"CTATCGGCACCCTTTCAGCA\")\n",
    "# Out - {'A': 4, 'C': 8, 'T': 5,  'G': 3 }\n",
    "    \n",
    "# In - baseComposition(\"AGT\")\n",
    "# Out - {'A': 1, 'C': 0, 'T': 1,  'G': 1 }\n",
    "\n",
    "nucleotide_bases = ['A', 'T', 'C', 'G']\n",
    "def count_letter(inp):\n",
    "    d = {}\n",
    "    d = {i:inp.count(i) for i in nucleotide_bases}\n",
    "    print(\"computing the base composition of the DNA sequence.....:\",d)\n",
    "count_letter('CTATCGGCACCCTTTCAGCA')\n",
    "print()\n",
    "def count_letter(inp):\n",
    "    d = {}\n",
    "    d = {i:inp.count(i) for i in nucleotide_bases}\n",
    "    print(\"computing the base composition of the DNA sequence.....:\",d)\n",
    "count_letter('AGT')"
   ]
  },
  {
   "cell_type": "code",
   "execution_count": 38,
   "id": "c486b540",
   "metadata": {},
   "outputs": [
    {
     "name": "stdout",
     "output_type": "stream",
     "text": [
      "Enter Dictionary: {'a':1, 'b':2, 'c':2}\n",
      "Enter Value: 1\n",
      "Output:  ['a']\n",
      "\n",
      "Enter Dictionary: {'a':1, 'b':2, 'c':2}\n",
      "Enter Value: 2\n",
      "Output:  ['b', 'c']\n",
      "\n",
      "Enter Dictionary: {'a':1, 'b':2, 'c':2}\n",
      "Enter Value: 3\n",
      "Output:  []\n",
      "\n"
     ]
    }
   ],
   "source": [
    "# Write a function reverseLookup(dictionary, value) that takes in a dictionary and a value as arguments and returns a \n",
    "# sorted list of all keys that contains the value. The function will return an empty list if no match is found.\n",
    "\n",
    "# In - reverseLookup({'a':1, 'b':2, 'c':2}, 1)\n",
    "# Out - ['a']\n",
    "# In - reverseLookup({'a':1, 'b':2, 'c':2}, 2)\n",
    "# Out - ['b', 'c']\n",
    "# In - reverseLookup({'a':1, 'b':2, 'c':2}, 3)\n",
    "# Out - []\n",
    "\n",
    "for i in range(3):\n",
    "    def reverseLookup(dictionary, val):\n",
    "        d = {}\n",
    "        for key, value in dictionary.items(): \n",
    "            if value in d: \n",
    "                d[value].append(key)\n",
    "            else: \n",
    "                d[value] = [key] \n",
    "        if val not in dictionary.values():\n",
    "            d[val] = []\n",
    "        print(\"Output: \",d[val])\n",
    "        print()\n",
    "    reverseLookup(eval(input(\"Enter Dictionary: \")),eval(input(\"Enter Value: \")))"
   ]
  },
  {
   "cell_type": "code",
   "execution_count": 39,
   "id": "6488826f",
   "metadata": {},
   "outputs": [
    {
     "name": "stdout",
     "output_type": "stream",
     "text": [
      "invertDictionary: {'a':1, 'b':2, 'c':3, 'd':2}\n",
      "Output : {1: ['a'], 2: ['b', 'd'], 3: ['c']}\n",
      "\n",
      "invertDictionary: {'a':3, 'b':3, 'c':3}\n",
      "Output : {3: ['a', 'b', 'c']}\n",
      "\n",
      "invertDictionary: {'a':2, 'b':1, 'c':2, 'd':1}\n",
      "Output : {2: ['a', 'c'], 1: ['b', 'd']}\n",
      "\n"
     ]
    }
   ],
   "source": [
    "# Write a function invertDictionary(d) that takes in a dictionary as argument and return a dictionary that inverts the \n",
    "# keys and the values of the original dictionary.\n",
    "# In - invertDictionary({'a':1, 'b':2, 'c':3, 'd':2})\n",
    "# Out - {1: ['a'], 2: ['b', 'd'], 3: ['c']}\n",
    "# In - invertDictionary({'a':3, 'b':3, 'c':3})\n",
    "# Out - {3: ['a', 'c', 'b']}\n",
    "# In - invertDictionary({'a':2, 'b':1, 'c':2, 'd':1})\n",
    "# Out - {1: ['b', 'd'], 2: ['a', 'c']}\n",
    "\n",
    "for i in range(3):\n",
    "    def invertDictionary(inp):\n",
    "        d = {}\n",
    "        for key, value in inp.items(): \n",
    "            if value in d: \n",
    "                d[value].append(key) \n",
    "            else: \n",
    "                d[value] = [key] \n",
    "        print(\"Output :\",d)\n",
    "        print()\n",
    "    invertDictionary(eval(input(\"invertDictionary: \")))"
   ]
  },
  {
   "cell_type": "code",
   "execution_count": 40,
   "id": "838a7d04",
   "metadata": {},
   "outputs": [
    {
     "name": "stdout",
     "output_type": "stream",
     "text": [
      "[1, 0, 0, 2, 0, 0, 0, 3, 0, 0, 0, 0, 4]\n",
      "{0: 1, 3: 2, 7: 3, 12: 4}\n"
     ]
    }
   ],
   "source": [
    "# Write a function that converts a sparse vector into a dictionary as described above.\n",
    "# In - convertVector([1, 0, 0, 2, 0, 0, 0, 3, 0, 0, 0, 0, 4])\n",
    "# Out - {0: 1, 3: 2, 7: 3, 12: 4}\n",
    "# In - convertVector([1, 0, 1 , 0, 2, 0, 1, 0, 0, 1, 0])\n",
    "# Out - {0: 1, 2: 1, 4: 2, 6: 1, 9: 1}\n",
    "# In - convertVector([0, 0, 0, 0, 0])\n",
    "# Out - {}\n",
    "\n",
    "print(dict([i for i in enumerate(eval(input())) if i[-1] != 0]))"
   ]
  },
  {
   "cell_type": "code",
   "execution_count": 41,
   "id": "f57e53f6",
   "metadata": {},
   "outputs": [
    {
     "name": "stdout",
     "output_type": "stream",
     "text": [
      "[1, 0, 0, 2, 0, 0, 0, 3, 0, 0, 0, 0, 4]\n"
     ]
    }
   ],
   "source": [
    "# Write a function that converts a dictionary back to its sparse vector representation.\n",
    "# In - convertDictionary({0: 1, 3: 2, 7: 3, 12: 4})\n",
    "# Out - [1, 0, 0, 2, 0, 0, 0, 3, 0, 0, 0, 0, 4]\n",
    "# In - convertDictionary({0: 1, 2: 1, 4: 2, 6: 1, 9: 1})\n",
    "# Out - [1, 0, 1, 0, 2, 0, 1, 0, 0, 1]\n",
    "# In - convertDictionary({})\n",
    "# Out - []\n",
    "\n",
    "def convertDictionary(dictionary):\n",
    "    max_len = max(dictionary, default=0)\n",
    "    lst = []\n",
    "    for i in range(max_len+1):\n",
    "        lst.append(dictionary.get(i, 0))\n",
    "    print(lst)\n",
    "convertDictionary({0: 1, 3: 2, 7: 3, 12: 4})"
   ]
  },
  {
   "cell_type": "code",
   "execution_count": 42,
   "id": "3c415db9",
   "metadata": {},
   "outputs": [
    {
     "data": {
      "text/plain": [
       "{'name': 'Kelly', 'age': 25, 'salary': 8000, 'Location': 'New york'}"
      ]
     },
     "execution_count": 42,
     "metadata": {},
     "output_type": "execute_result"
    }
   ],
   "source": [
    "# Rename key city to location in the following dictionary\n",
    "# sampleDict = {\n",
    "#   \"name\": \"Kelly\",\n",
    "#   \"age\":25,\n",
    "#   \"salary\": 8000,\n",
    "#   \"city\": \"New york\"\n",
    "# }\n",
    "\n",
    "# Expected Output\n",
    "# {\n",
    "#   \"name\": \"Kelly\",\n",
    "#   \"age\":25,\n",
    "#   \"salary\": 8000,\n",
    "#   \"location\": \"New york\"\n",
    "# }\n",
    "\n",
    "sampleDict = {\n",
    "  \"name\": \"Kelly\",\n",
    "  \"age\":25,\n",
    "  \"salary\": 8000,\n",
    "  \"city\": \"New york\"\n",
    "}\n",
    "sampleDict['Location'] = sampleDict.pop('city')\n",
    "dict(sampleDict)"
   ]
  },
  {
   "cell_type": "code",
   "execution_count": 43,
   "id": "07840786",
   "metadata": {},
   "outputs": [
    {
     "data": {
      "text/plain": [
       "{'age': 25, 'city': 'New york'}"
      ]
     },
     "execution_count": 43,
     "metadata": {},
     "output_type": "execute_result"
    }
   ],
   "source": [
    "# Delete set of keys from Python Dictionary\n",
    "# sampleDict = {\n",
    "#   \"name\": \"Kelly\",\n",
    "#   \"age\":25,\n",
    "#   \"salary\": 8000,\n",
    "#   \"city\": \"New york\"\n",
    "# }\n",
    "# keysToRemove = [\"name\", \"salary\"]\n",
    "\n",
    "# Expected Output:\n",
    "# {'city': 'New york', 'age': 25}\n",
    "\n",
    "sampleDict = {\n",
    "  \"name\": \"Kelly\",\n",
    "  \"age\":25,\n",
    "  \"salary\": 8000,\n",
    "  \"city\": \"New york\"\n",
    "}\n",
    "sampleDict.pop(\"name\")\n",
    "sampleDict.pop(\"salary\")\n",
    "sampleDict"
   ]
  },
  {
   "cell_type": "markdown",
   "id": "ebd27f21",
   "metadata": {},
   "source": [
    "---"
   ]
  },
  {
   "cell_type": "markdown",
   "id": "f17f9d6f",
   "metadata": {},
   "source": [
    "# Python code using Tuple\n",
    "    - Parenthesis () are optional\n",
    "    - Basic - Indexing, slicing, concatenation, Repetition, Membership\n",
    "    - Tuple is a collection of heterogeneous elements\n",
    "    - Tuple can have duplicate elements\n",
    "    - Tuple is Immutable - It is faster and memory efficient"
   ]
  },
  {
   "cell_type": "code",
   "execution_count": 44,
   "id": "242d42ba",
   "metadata": {},
   "outputs": [
    {
     "name": "stdout",
     "output_type": "stream",
     "text": [
      "(10, 10.2, (10+20j), 'Python', None, True, [1, 2, 3], (1, 2, 3)) <class 'tuple'>\n",
      "(10, 10.2, (10+20j), 'Python', None, True, [1, 2, 3], (1, 2, 3)) <class 'tuple'>\n"
     ]
    }
   ],
   "source": [
    "# Creating a tuple\n",
    "tpl = (10,10.20, 10+20j, 'Python', None, True, [1,2,3], (1,2,3))\n",
    "print(tpl, type(tpl))\n",
    "tpl = 10,10.20, 10+20j, 'Python', None, True, [1,2,3], (1,2,3)\n",
    "print(tpl, type(tpl))"
   ]
  },
  {
   "cell_type": "code",
   "execution_count": 45,
   "id": "cb5cd69b",
   "metadata": {},
   "outputs": [
    {
     "name": "stdout",
     "output_type": "stream",
     "text": [
      "(1, 2, 3)\n",
      "((10+20j), 'Python', None)\n",
      "(True, None, 'Python')\n",
      "(10, 'Python', [1, 2, 3])\n"
     ]
    }
   ],
   "source": [
    "tpl = (10,10.20, 10+20j, 'Python', None, True, [1,2,3], (1,2,3))\n",
    "\n",
    "print(tpl[len(tpl)-1])\n",
    "\n",
    "# Slicing\n",
    "print(tpl[2:5])\n",
    "print(tpl[5:2:-1])\n",
    "print(tpl[::3])"
   ]
  },
  {
   "cell_type": "code",
   "execution_count": 46,
   "id": "9e784d31",
   "metadata": {},
   "outputs": [
    {
     "name": "stdout",
     "output_type": "stream",
     "text": [
      "10.2\n",
      "(10+20j)\n",
      "Python\n",
      "None\n",
      "True\n",
      "[10, 20, 30]\n"
     ]
    }
   ],
   "source": [
    "# Tuple unpacking - no of values and no of variable should match\n",
    "tpl = 10, 10.20, 10+20j, 'Python', None, True, [10,20,30]\n",
    "\n",
    "a,a,c,d,e,f,g = tpl\n",
    "print(a)\n",
    "# print(b)\n",
    "print(c)\n",
    "print(d)\n",
    "print(e)\n",
    "print(f)\n",
    "print(g)\n"
   ]
  },
  {
   "cell_type": "markdown",
   "id": "29937cac",
   "metadata": {},
   "source": [
    "---"
   ]
  },
  {
   "cell_type": "code",
   "execution_count": 47,
   "id": "2e813f3e",
   "metadata": {},
   "outputs": [],
   "source": [
    "# String Methods"
   ]
  },
  {
   "cell_type": "code",
   "execution_count": 48,
   "id": "43a7e1fb",
   "metadata": {},
   "outputs": [
    {
     "name": "stdout",
     "output_type": "stream",
     "text": [
      "['peter', 'piper', 'picked', 'a', 'peck', 'of', 'pickled', 'peppers.']\n"
     ]
    }
   ],
   "source": [
    "#Write a python program to find below output:-\n",
    "\n",
    "#Input:- 'peter piper picked a peck of pickled peppers.'\n",
    "#Output:- ['peter', 'piper', 'picked', 'a', 'peck', 'of', 'pickled', 'peppers.']\n",
    "\n",
    "my_str = 'peter piper picked a peck of pickled peppers.'\n",
    "print(my_str.split())"
   ]
  },
  {
   "cell_type": "code",
   "execution_count": 49,
   "id": "50a7ea40",
   "metadata": {},
   "outputs": [
    {
     "name": "stdout",
     "output_type": "stream",
     "text": [
      "peppers. pickled of peck a picked piper peter\n"
     ]
    }
   ],
   "source": [
    "#Write a python program to find below output:-\n",
    "\n",
    "#Input:- 'peter piper picked a peck of pickled peppers.'\n",
    "#Output:- 'peppers. pickled of peck a picked piper peter'\n",
    "\n",
    "my_str = 'peter piper picked a peck of pickled peppers.'\n",
    "new_str = my_str.split()\n",
    "# print(new_str)\n",
    "for i in new_str:\n",
    "    out_str = new_str[len(new_str)-1::-1]\n",
    "# print(out_str)\n",
    "print(' '.join(out_str))\n"
   ]
  },
  {
   "cell_type": "code",
   "execution_count": 50,
   "id": "388e5b7c",
   "metadata": {},
   "outputs": [
    {
     "name": "stdout",
     "output_type": "stream",
     "text": [
      ".sreppep delkcip fo kcep a dekcip repip retep\n"
     ]
    }
   ],
   "source": [
    "#Write a python program to find below output:-\n",
    "\n",
    "#Input:- 'peter piper picked a peck of pickled peppers.'\n",
    "#Output:- '.sreppep delkcip fo kcep a dekcip repip retep'\n",
    "\n",
    "my_str = 'peter piper picked a peck of pickled peppers.'\n",
    "print(my_str[::-1])"
   ]
  },
  {
   "cell_type": "code",
   "execution_count": 51,
   "id": "438da237",
   "metadata": {},
   "outputs": [
    {
     "name": "stdout",
     "output_type": "stream",
     "text": [
      ".sreppep delkcip fo kcep a dekcip repip retep\n"
     ]
    }
   ],
   "source": [
    "#Write a python program to find below output:-\n",
    "\n",
    "#Input:- 'peter piper picked a peck of pickled peppers.'\n",
    "#Output:- '.sreppep delkcip fo kcep a dekcip repip retep'\n",
    "\n",
    "my_str = 'peter piper picked a peck of pickled peppers.'\n",
    "print(my_str[::-1])"
   ]
  },
  {
   "cell_type": "code",
   "execution_count": 52,
   "id": "34d9f572",
   "metadata": {},
   "outputs": [
    {
     "name": "stdout",
     "output_type": "stream",
     "text": [
      "retep repip dekcip a kcep fo delkcip .sreppep "
     ]
    }
   ],
   "source": [
    "#Write a python program to find below output:-\n",
    "\n",
    "#Input:- 'peter piper picked a peck of pickled peppers.'\n",
    "#Output:- 'retep repip dekcip a kcep fo delkcip .sreppep'\n",
    "\n",
    "my_str = 'peter piper picked a peck of pickled peppers.'\n",
    "new_str = my_str.split()\n",
    "# print(new_str)\n",
    "ind = 0\n",
    "for i in new_str:\n",
    "    out_str = new_str[ind][len(new_str)::-1]\n",
    "    ind += 1\n",
    "    print(''.join(out_str), end = ' ')\n"
   ]
  },
  {
   "cell_type": "code",
   "execution_count": 53,
   "id": "5d6a2e79",
   "metadata": {},
   "outputs": [
    {
     "name": "stdout",
     "output_type": "stream",
     "text": [
      "retep repip dekcip a kcep fo delkcip .sreppep "
     ]
    }
   ],
   "source": [
    "#Write a python program to find below output:-\n",
    "\n",
    "#Input:- 'peter piper picked a peck of pickled peppers.'\n",
    "#Output:- 'retep repip dekcip a kcep fo delkcip .sreppep'\n",
    "\n",
    "my_str = 'peter piper picked a peck of pickled peppers.'\n",
    "new_str = my_str.split()\n",
    "# print(new_str)\n",
    "ind = 0\n",
    "for i in new_str:\n",
    "    out_str = new_str[ind][len(new_str)::-1]\n",
    "    ind += 1\n",
    "    print(''.join(out_str), end = ' ')\n"
   ]
  },
  {
   "cell_type": "code",
   "execution_count": 54,
   "id": "a489e1a9",
   "metadata": {},
   "outputs": [
    {
     "name": "stdout",
     "output_type": "stream",
     "text": [
      "Peter Piper Picked A Peck Of Pickled Peppers.\n"
     ]
    }
   ],
   "source": [
    "#Write a python program to find below output:-\n",
    "\n",
    "#Input:- 'peter piper picked a peck of pickled peppers.'\n",
    "#Output:- 'Peter Piper Picked A Peck Of Pickled Peppers.'\n",
    "\n",
    "my_str = 'peter piper picked a peck of pickled peppers.'\n",
    "print(my_str.title())"
   ]
  },
  {
   "cell_type": "code",
   "execution_count": 55,
   "id": "6ce1f5bc",
   "metadata": {},
   "outputs": [
    {
     "name": "stdout",
     "output_type": "stream",
     "text": [
      "Peter piper picked a peck of pickled peppers.\n"
     ]
    }
   ],
   "source": [
    "#Write a python program to find below output:-\n",
    "\n",
    "#Input:- 'Peter Piper Picked A Peck Of Pickled Peppers.'\n",
    "#Output:- 'Peter piper picked a peck of pickled peppers.'\n",
    "\n",
    "my_str = 'Peter Piper Picked A Peck Of Pickled Peppers.'\n",
    "print(my_str.capitalize())"
   ]
  },
  {
   "cell_type": "code",
   "execution_count": 56,
   "id": "b764d3dd",
   "metadata": {},
   "outputs": [
    {
     "name": "stdout",
     "output_type": "stream",
     "text": [
      "my_str: 'Peter Piper Picked A Peck Of Pickled Peppers.'\n",
      "Peter Piper Picked A Pack Of Pickled Peppers.\n",
      "my_str: 'sreppep delkcip fo kcep a dekcip repip retep'\n",
      "sub_str not found\n"
     ]
    }
   ],
   "source": [
    "#Write a python program to implement replace method. If sub_str is found in my_str then it will replace the first \n",
    "#occurrence of sub_str with new_str else it will print sub_str not found:-\n",
    "\n",
    "#Input:- my_str = 'Peter Piper Picked A Peck Of Pickled Peppers.', sub_str = 'Peck', new_str = 'Pack'\n",
    "#Output:- 'Peter Piper Picked A Pack Of Pickled Peppers.'\n",
    "\n",
    "for i in range(2):\n",
    "    my_str = eval(input(\"my_str: \"))\n",
    "    sub_str = 'Peck'\n",
    "    new_str = 'Pack'\n",
    "    if sub_str in my_str:\n",
    "        print(my_str.replace(sub_str, new_str))\n",
    "    else:\n",
    "        print(\"sub_str not found\")"
   ]
  },
  {
   "cell_type": "code",
   "execution_count": 57,
   "id": "efb3f64e",
   "metadata": {},
   "outputs": [
    {
     "name": "stdout",
     "output_type": "stream",
     "text": [
      "*********************Peck********************\n"
     ]
    }
   ],
   "source": [
    "#Write a python program to find below output (implements rjust and ljust):-\n",
    "\n",
    "#Input:- 'Peter Piper Picked A Peck Of Pickled Peppers.', sub_str = 'Peck', \n",
    "#Output:- '*********************Peck********************'\n",
    "\n",
    "my_str = 'Peter Piper Picked A Peck Of Pickled Peppers.'\n",
    "sub_str = 'Peck'\n",
    "a = my_str.find(sub_str) + len(sub_str)\n",
    "out = sub_str.rjust(a, '*').ljust(len(my_str), '*')\n",
    "print(out)"
   ]
  },
  {
   "cell_type": "markdown",
   "id": "69fd4a2f",
   "metadata": {},
   "source": [
    "---"
   ]
  },
  {
   "cell_type": "markdown",
   "id": "d4470f35",
   "metadata": {},
   "source": [
    "# Loops"
   ]
  },
  {
   "cell_type": "code",
   "execution_count": null,
   "id": "e22fde2b",
   "metadata": {},
   "outputs": [],
   "source": [
    "# Q. W. A P. to implement calculator but the operation to be done and two numbers will be taken as input from user:-\n",
    "# Operation console should show below:-\n",
    "# Please select any one operation from below:-\n",
    "# * To add enter 1\n",
    "# * to subtract enter 2\n",
    "# * To multiply enter 3\n",
    "# * To divide enter 4\n",
    "# * To divide and find quotient enter 5\n",
    "# * To divide and find remainder enter 6\n",
    "# * To divide and find num1 to the power of num2 enter 7\n",
    "# * To Come out of the program enter 8\n",
    "\n",
    "n = int(input(\"Enter number: \"))\n",
    "for i in range(n):\n",
    "    a = int(input(\"Enter a number      : \"))\n",
    "    b = int(input(\"Enter another number: \"))\n",
    "#     for i in range(2):\n",
    "    c = int(input('''Please select any one operation from below:- \n",
    "* To add enter 1\n",
    "* to subtract enter 2\n",
    "* To multiply enter 3 \n",
    "* To divide enter 4\n",
    "* To divide and find quotient enter 5\n",
    "* To divide and find remainder enter 6\n",
    "* To divide and find num1 to the power of num2 enter 7\n",
    "* To Come out of the program enter 8\\n'''))\n",
    "    if c == 1:\n",
    "        print(\"Addition: \", a+b)\n",
    "    elif c == 2:\n",
    "        print(\"Subtraction: \", a-b)\n",
    "    elif c == 3:\n",
    "        print(\"Multiplication: \", a*b)\n",
    "    elif c == 4:\n",
    "        print(\"Division: \", a/b)\n",
    "    elif c == 5:\n",
    "        print(\"Quotient: \", a//b)\n",
    "    elif c == 6:\n",
    "        print(\"Remainder: \", a%b)\n",
    "    elif c == 7:\n",
    "        print(\"num1 to the power of num2: \", a**b)\n",
    "    elif c == 8:\n",
    "        print(\"Out of program\")\n",
    "print()"
   ]
  },
  {
   "cell_type": "code",
   "execution_count": null,
   "id": "dbed5134",
   "metadata": {},
   "outputs": [],
   "source": [
    "# Q. W A P to check whether a year entered by user is an leap year or not?\n",
    "# Check with below input:-\n",
    "# leap year:- 2012, 1968, 2004, 1200, 1600,2400\n",
    "# Non-lear year:- 1971, 2006, 1700,1800,1900\n",
    "\n",
    "for i in range(4):\n",
    "    year = int(input(\"Enter a Year: \"))\n",
    "    if year%4 == 0:\n",
    "        if year%100 == 0:\n",
    "            if year%400 == 0:\n",
    "                print(\"Year is a Leap Year\")\n",
    "            else:\n",
    "                print(\"Year is not Leap Year\")\n",
    "        else:\n",
    "            print(\"Year is a Leap Year\")\n",
    "    else:\n",
    "        print(\"Year is not Leap Year\")\n"
   ]
  },
  {
   "cell_type": "code",
   "execution_count": null,
   "id": "0d5ae7ec",
   "metadata": {},
   "outputs": [],
   "source": [
    "# Q. W A P which takes three numbers from the user and prints below\n",
    "# output:-\n",
    "# 1. num1 is greater than num2 and num3 if num1 is greater than num2\n",
    "# and num3\n",
    "# 2. num2 is greater than num1 and num3 if num2 is greater than num1\n",
    "# and num3\n",
    "# 3. num3 is greater than num1 and num2 if num3 is greater than num1\n",
    "# and num2\n",
    "# Note:- 1. Do this problem using if - elif - else\n",
    "\n",
    "a = int(input(\"Enter 1st number      : \"))\n",
    "b = int(input(\"Enter 2nd number      : \"))\n",
    "c = int(input(\"Enter 3rd number      : \"))\n",
    "if a > b and a > c:\n",
    "    print(\"num1 is greater than num2 and num3\")\n",
    "elif b > c:\n",
    "    print(\"num2 is greater than num1 and num3\")\n",
    "else:\n",
    "    print(\"num3 is greater than num1 and num2\")\n",
    "    \n",
    "val = a if a>b and a>c else b if b>c else c\n",
    "print(\"The greater value: \",val)"
   ]
  },
  {
   "cell_type": "code",
   "execution_count": null,
   "id": "241113e0",
   "metadata": {},
   "outputs": [],
   "source": [
    "# Q. Write a python program to find below output using loop:-\n",
    "# Input:- 'peter piper picked a peck of pickled peppers.'\n",
    "# Output:- ['peter', 'piper', 'picked', 'a', 'peck', 'of', 'pickled', 'peppers']\n",
    "\n",
    "my_str = 'peter piper picked a peck of pickled peppers.'\n",
    "out_str = ''\n",
    "new_lst = []\n",
    "for i in my_str:\n",
    "    if i == ' ':\n",
    "        new_lst.append(out_str)\n",
    "        out_str = ''\n",
    "    else:\n",
    "        out_str += i\n",
    "new_lst.append(out_str)\n",
    "print(new_lst)\n"
   ]
  },
  {
   "cell_type": "code",
   "execution_count": null,
   "id": "1865b0d2",
   "metadata": {},
   "outputs": [],
   "source": [
    "# Q. Write a python program to find below output using loop:-\n",
    "# Input:- 'peter piper picked a peck of pickled peppers.'\n",
    "# Output:- 'peppers pickled of peck a picked piper peter'\n",
    "\n",
    "my_str = 'peter piper picked a peck of pickled peppers.'\n",
    "ind = len(my_str)-1\n",
    "out_str = ''\n",
    "a = ''\n",
    "new_lst = []\n",
    "for i in my_str:\n",
    "    if my_str[ind] == ' ':\n",
    "        new_lst.append(a)\n",
    "        out_str = ''\n",
    "        ind -= 1\n",
    "    else:\n",
    "        out_str += my_str[ind]\n",
    "        a = out_str[::-1]\n",
    "        ind -= 1\n",
    "print(' '.join(new_lst) + ' ' + a)"
   ]
  },
  {
   "cell_type": "code",
   "execution_count": null,
   "id": "6baf318c",
   "metadata": {},
   "outputs": [],
   "source": [
    "# Q. Write a python program to find below output using loop:-\n",
    "# Input:- 'peter piper picked a peck of pickled peppers.'\n",
    "# Output:- '.sreppep delkcip fo kcep a dekcip repip retep'\n",
    "\n",
    "my_str = 'peter piper picked a peck of pickled peppers.'\n",
    "ind = len(my_str)-1\n",
    "out_str = ''\n",
    "for i in my_str:\n",
    "    out_str += my_str[ind]\n",
    "    ind -= 1\n",
    "print(out_str)\n"
   ]
  },
  {
   "cell_type": "code",
   "execution_count": null,
   "id": "7fd5fa6c",
   "metadata": {},
   "outputs": [],
   "source": [
    "# Q. Write a python program to find below output using loop:-\n",
    "# Input:- 'peter piper picked a peck of pickled peppers.'\n",
    "# Output:- 'retep repip dekcip a kcep fo delkcip sreppep'\n",
    "\n",
    "my_str = 'peter piper picked a peck of pickled peppers.'\n",
    "out_str = ''\n",
    "a = ''\n",
    "new_lst = []\n",
    "for i in my_str:\n",
    "    if i == ' ':\n",
    "        new_lst.append(a)\n",
    "        out_str = ''\n",
    "    else:\n",
    "        out_str += i\n",
    "        a = out_str[::-1]\n",
    "print(' '.join(new_lst) + ' ' + a)\n"
   ]
  },
  {
   "cell_type": "code",
   "execution_count": null,
   "id": "c77b05c4",
   "metadata": {},
   "outputs": [],
   "source": [
    "# Q. Write a python program to find below output using loop:-\n",
    "# Input:- 'peter piper picked a peck of pickled peppers.'\n",
    "# Output:- 'Peter Piper Picked A Peck Of Pickled Peppers'\n",
    "\n",
    "my_str = 'peter piper picked a peck of pickled peppers.'\n",
    "new_lst = my_str.split()\n",
    "out_str = ''\n",
    "for i in new_lst:\n",
    "    out_str += i.capitalize()+' '\n",
    "print(out_str.rstrip())"
   ]
  },
  {
   "cell_type": "code",
   "execution_count": null,
   "id": "43a289ed",
   "metadata": {},
   "outputs": [],
   "source": [
    "# Q. Write a python program to find below output using loop:-\n",
    "# Input:- 'This is Python class', sep = ' is',\n",
    "# Output:- ['This', 'is', 'Python class']\n",
    "        \n",
    "my_str = 'This is Python class'\n",
    "sep = 'is'\n",
    "new_lst = []\n",
    "sen_str = ''\n",
    "out_str = my_str.split() \n",
    "for i in out_str:\n",
    "    if i == sep:\n",
    "        new_lst.append(a)\n",
    "        new_lst.append(i)\n",
    "        sen_str = ''\n",
    "    else:\n",
    "        sen_str = sen_str + ''.join(i) + ' '\n",
    "        a = sen_str.rstrip()\n",
    "new_lst.append(a)\n",
    "print(new_lst)"
   ]
  }
 ],
 "metadata": {
  "kernelspec": {
   "display_name": "Python 3",
   "language": "python",
   "name": "python3"
  },
  "language_info": {
   "codemirror_mode": {
    "name": "ipython",
    "version": 3
   },
   "file_extension": ".py",
   "mimetype": "text/x-python",
   "name": "python",
   "nbconvert_exporter": "python",
   "pygments_lexer": "ipython3",
   "version": "3.8.8"
  }
 },
 "nbformat": 4,
 "nbformat_minor": 5
}
