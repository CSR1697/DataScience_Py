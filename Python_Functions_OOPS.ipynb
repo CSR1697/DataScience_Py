{
 "cells": [
  {
   "cell_type": "markdown",
   "id": "fe40a7e9",
   "metadata": {},
   "source": [
    "# Functions"
   ]
  },
  {
   "cell_type": "code",
   "execution_count": null,
   "id": "21e7c884",
   "metadata": {},
   "outputs": [],
   "source": [
    "# Write a function getBiggerNumber(x, y) that takes in two numbers as arguments and returns the bigger number.\n",
    "\n",
    "def getBiggerNumber(x, y):\n",
    "    if x>y:\n",
    "        print(\"The bigger number is:\", x)\n",
    "    else:\n",
    "        print(\"The bigger number is:\", y)\n",
    "getBiggerNumber(3,4)"
   ]
  },
  {
   "cell_type": "code",
   "execution_count": null,
   "id": "d52c89b1",
   "metadata": {},
   "outputs": [],
   "source": [
    "# Write a function to convert temperature from Celsius to Fahrenheit scale.\n",
    "# oC to oF Conversion: Multipy by 9, then divide by 5, then add 32.\n",
    "\n",
    "# Note: Return a string of 2 decimal places.\n",
    "# In - Cel2Fah(28.0)\n",
    "# Out - '82.40'\n",
    "# In - Cel2Fah(0.00)\n",
    "# Out - '32.00'\n",
    "\n",
    "for i in range(2):\n",
    "    def Cel2Fah(t):\n",
    "        temp = ((t*9)/5)+32\n",
    "        out = '%.2f'%temp\n",
    "        print(out, type(out))\n",
    "    Cel2Fah(float(input(\"Input Celsius: \")))"
   ]
  },
  {
   "cell_type": "code",
   "execution_count": null,
   "id": "3664dbeb",
   "metadata": {},
   "outputs": [],
   "source": [
    "# Write a function to compute the BMI of a person.\n",
    "#     BMI = weight(kg)  /  ( height(m)*height(m) )\n",
    "\n",
    "# Note: Return a string of 1 decimal place.\n",
    "# In - BMI(63, 1.7)\n",
    "# Out - '21.8'\n",
    "# In - BMI(110, 2)\n",
    "# Out - '27.5'\n",
    "\n",
    "def BMI(wt, ht):\n",
    "    bmi = wt/(ht*ht)\n",
    "    out = \"%.1f\"%bmi\n",
    "    print(out, type(out))\n",
    "BMI(110, 2)"
   ]
  },
  {
   "cell_type": "code",
   "execution_count": null,
   "id": "a86b614d",
   "metadata": {},
   "outputs": [],
   "source": [
    "# Write a function percent(value, total) that takes in two numbers as arguments, and returns the percentage value as an integer.\n",
    "# In - percent(46, 90)\n",
    "# Out - 51\n",
    "# In - percent(51, 51)\n",
    "# Out - 100\n",
    "# In - percent(63, 12)\n",
    "# Out - 525\n",
    "import math\n",
    "\n",
    "def percent(value, total):\n",
    "    i = math.floor((value/total)*100)\n",
    "    print(i, type(i))\n",
    "percent(63, 12)"
   ]
  },
  {
   "cell_type": "code",
   "execution_count": null,
   "id": "bb999923",
   "metadata": {},
   "outputs": [],
   "source": [
    "# Write a function to compute the hypotenuse given sides a and b of the triangle.\n",
    "# Hint: You can use math.sqrt(x) to compute the square root of x.\n",
    "# In - hypotenuse(3, 4)\n",
    "# Out - 5\n",
    "# In - hypotenuse(5, 12)\n",
    "# Out - 13\n",
    "\n",
    "def hypotenuse(adj, opp):\n",
    "    hyp = math.sqrt((adj**2)+(opp**2))\n",
    "    print(math.floor(hyp))\n",
    "hypotenuse(5, 12)"
   ]
  },
  {
   "cell_type": "code",
   "execution_count": null,
   "id": "f0ed9863",
   "metadata": {},
   "outputs": [],
   "source": [
    "# Write a function getSumOfLastDigits() that takes in a list of positive numbers and returns the sum of all the last \n",
    "# digits in the list.\n",
    "# getSumOfLastDigits([2, 3, 4])\n",
    "# 9\n",
    "# getSumOfLastDigits([1, 23, 456])\n",
    "# 10\n",
    "for i in range(2):\n",
    "    def getSumOfLastDigits(lst):\n",
    "        s = []\n",
    "        for j in lst:\n",
    "            ld = j%10\n",
    "            s.append(ld)\n",
    "        print(sum(s))\n",
    "    getSumOfLastDigits(eval(input(\"Enter the list: \")))"
   ]
  },
  {
   "cell_type": "code",
   "execution_count": null,
   "id": "5a6a37cd",
   "metadata": {},
   "outputs": [],
   "source": [
    "# Write a function that uses a default value.\n",
    "# In - introduce('Lim', 20)\n",
    "# Out - 'My name is Lim. I am 20 years old.'\n",
    "# In - introduce('Ahmad')\n",
    "# Out - 'My name is Ahmad. My age is secret.'\n",
    "\n",
    "def introduce(name, age = None):\n",
    "    if age == None:\n",
    "        print(f\"'My name is {name}. My age is secret.'\")\n",
    "    else:\n",
    "        print(f\"'My name is {name}. I am {age} years old.'\")\n",
    "introduce('Lim',20)"
   ]
  },
  {
   "cell_type": "code",
   "execution_count": null,
   "id": "cbaeace0",
   "metadata": {},
   "outputs": [],
   "source": [
    "# Write a function isEquilateral(x, y, z) that accepts the 3 sides of a triangle as arguments. \n",
    "# The program should return True if it is an equilateral triangle.\n",
    "\n",
    "# In - isEquilateral(2, 4, 3)\n",
    "# False - False\n",
    "# In - isEquilateral(3, 3, 3)\n",
    "# Out - True\n",
    "# In - isEquilateral(-3, -3, -3)\n",
    "# Out - False\n",
    "\n",
    "def isEquilateral(x ,y ,z):\n",
    "    if (x > 0) & (y > 0) & (z > 0):\n",
    "        if (x == y) & (y == z):\n",
    "            print(True)\n",
    "        else:\n",
    "            print(False)\n",
    "    else:\n",
    "        print(False)\n",
    "isEquilateral(3, 3, 3)"
   ]
  },
  {
   "cell_type": "code",
   "execution_count": null,
   "id": "2cede57c",
   "metadata": {},
   "outputs": [],
   "source": [
    "# For a quadratic equation in the form of ax2+bx+c, the discriminant, D is b2-4ac. Write a function to compute the discriminant, D.\n",
    "# In - quadratic(1, 2, 3)\n",
    "# Out - 'The discriminant is -8.'\n",
    "# In - quadratic(1, 3, 2)\n",
    "# Out - 'The discriminant is 1.'\n",
    "# In - quadratic(1, 4, 4)\n",
    "# Out - 'The discriminant is 0.'\n",
    "\n",
    "def quadratic(a, b, c):\n",
    "    print(str((f\"'The discriminant is {(b**2)-(4*a*c) }.'\")))\n",
    "quadratic(1, 4, 4)"
   ]
  },
  {
   "cell_type": "code",
   "execution_count": 2,
   "id": "236a8453",
   "metadata": {},
   "outputs": [
    {
     "data": {
      "text/plain": [
       "True"
      ]
     },
     "execution_count": 2,
     "metadata": {},
     "output_type": "execute_result"
    }
   ],
   "source": [
    "# 'lambda' expression to return True if the argument is an even number, and False otherwise.\n",
    "\n",
    "(lambda num : True if num%2 == 0 else False)(6)"
   ]
  },
  {
   "cell_type": "code",
   "execution_count": null,
   "id": "a56c2c38",
   "metadata": {},
   "outputs": [],
   "source": [
    "def my_gen(a, b):\n",
    "    c = a+b\n",
    "    yield c\n",
    "    yield 10.20\n",
    "    yield 10+20j\n",
    "    yield 'Python'\n",
    "    yield None\n",
    "    yield True\n",
    "    yield [10,20,30]\n",
    "    yield (10,20,30)\n",
    "    yield {1:100, 2:200, 3:300}\n",
    "g = my_gen(10,20)\n",
    "# i = iter(g)\n",
    "# print(next(i))\n",
    "# print(next(i))\n",
    "# print(next(i))\n",
    "# print(next(i))\n",
    "\n",
    "for i in g:\n",
    "    print(i)"
   ]
  },
  {
   "cell_type": "code",
   "execution_count": null,
   "id": "ddc29e3c",
   "metadata": {},
   "outputs": [],
   "source": [
    "def my_gen(num):\n",
    "    for i in range(num):\n",
    "        return input('Enter an email id: ')\n",
    "g = my_gen(10) \n",
    "for j in g:\n",
    "    print(j)"
   ]
  },
  {
   "cell_type": "code",
   "execution_count": 3,
   "id": "3b048b35",
   "metadata": {
    "scrolled": true
   },
   "outputs": [
    {
     "name": "stdout",
     "output_type": "stream",
     "text": [
      "Enter an amount: 0\n",
      "Amount Deposited\n"
     ]
    }
   ],
   "source": [
    "def amount_deposit(amt):\n",
    "    if amt > 49999:\n",
    "        raise MyException('The amount is More than 50K')\n",
    "    else:\n",
    "        print('Amount Deposited')\n",
    "        \n",
    "amt = int(input('Enter an amount: '))\n",
    "try:\n",
    "    amount_deposit(amt)\n",
    "except MyException as e:\n",
    "    print(e)"
   ]
  },
  {
   "cell_type": "markdown",
   "id": "4b7f25bf",
   "metadata": {},
   "source": [
    "---"
   ]
  },
  {
   "cell_type": "markdown",
   "id": "d7f348ff",
   "metadata": {},
   "source": [
    "# OOPS"
   ]
  },
  {
   "cell_type": "code",
   "execution_count": 4,
   "id": "24796d7e",
   "metadata": {},
   "outputs": [],
   "source": [
    "class Car:\n",
    "    def __init__(self, w, s, e):\n",
    "        self.whells = w\n",
    "        self.steering = s\n",
    "        self.engine = e\n",
    "        \n",
    "c1 = Car(4, 1, 1)\n",
    "c2 = Car(4, 1, 1)"
   ]
  },
  {
   "cell_type": "code",
   "execution_count": 5,
   "id": "337ff435",
   "metadata": {},
   "outputs": [
    {
     "name": "stdout",
     "output_type": "stream",
     "text": [
      "4\n",
      "1\n",
      "1\n"
     ]
    }
   ],
   "source": [
    "print(c1.whells)\n",
    "print(c1.steering)\n",
    "print(c1.engine)"
   ]
  },
  {
   "cell_type": "code",
   "execution_count": 6,
   "id": "94d6fc97",
   "metadata": {},
   "outputs": [
    {
     "name": "stdout",
     "output_type": "stream",
     "text": [
      "4\n",
      "1\n",
      "1\n"
     ]
    }
   ],
   "source": [
    "print(c2.whells)\n",
    "print(c2.steering)\n",
    "print(c2.engine)"
   ]
  },
  {
   "cell_type": "code",
   "execution_count": null,
   "id": "158c050b",
   "metadata": {},
   "outputs": [],
   "source": []
  },
  {
   "cell_type": "code",
   "execution_count": null,
   "id": "50bdff91",
   "metadata": {},
   "outputs": [],
   "source": []
  },
  {
   "cell_type": "code",
   "execution_count": null,
   "id": "adcdd4d0",
   "metadata": {},
   "outputs": [],
   "source": []
  },
  {
   "cell_type": "code",
   "execution_count": null,
   "id": "dfbd18b8",
   "metadata": {},
   "outputs": [],
   "source": []
  },
  {
   "cell_type": "code",
   "execution_count": null,
   "id": "64aef843",
   "metadata": {},
   "outputs": [],
   "source": []
  },
  {
   "cell_type": "code",
   "execution_count": null,
   "id": "323000b8",
   "metadata": {},
   "outputs": [],
   "source": []
  }
 ],
 "metadata": {
  "kernelspec": {
   "display_name": "Python 3",
   "language": "python",
   "name": "python3"
  },
  "language_info": {
   "codemirror_mode": {
    "name": "ipython",
    "version": 3
   },
   "file_extension": ".py",
   "mimetype": "text/x-python",
   "name": "python",
   "nbconvert_exporter": "python",
   "pygments_lexer": "ipython3",
   "version": "3.8.8"
  }
 },
 "nbformat": 4,
 "nbformat_minor": 5
}
